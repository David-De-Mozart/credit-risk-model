{
 "cells": [
  {
   "cell_type": "code",
   "execution_count": null,
   "id": "8008f201",
   "metadata": {
    "vscode": {
     "languageId": "plaintext"
    }
   },
   "outputs": [],
   "source": [
    "import pandas as pd\n",
    "import matplotlib.pyplot as plt\n",
    "import seaborn as sns\n",
    "\n",
    "# Load data\n",
    "train = pd.read_csv('../data/raw/train.csv')\n",
    "test = pd.read_csv('../data/raw/test.csv')\n",
    "\n",
    "# Basic inspection\n",
    "print(f\"Train shape: {train.shape}\")\n",
    "print(f\"Test shape: {test.shape}\")\n",
    "print(\"\\nTrain columns:\")\n",
    "print(train.dtypes)\n",
    "\n",
    "# Handle TransactionStartTime\n",
    "train['TransactionStartTime'] = pd.to_datetime(train['TransactionStartTime'])\n",
    "test['TransactionStartTime'] = pd.to_datetime(test['TransactionStartTime'])\n",
    "\n",
    "# Key visualizations\n",
    "plt.figure(figsize=(12,6))\n",
    "sns.countplot(x=train['ProductCategory'])\n",
    "plt.title('Product Category Distribution')\n",
    "plt.xticks(rotation=45)\n",
    "plt.savefig('../reports/product_category_dist.png')\n",
    "\n",
    "# Top 3 insights\n",
    "insights = [\n",
    "    \"1. High concentration in Electronics category (65% of transactions)\",\n",
    "    \"2. 12% missing values in PricingStrategy column\",\n",
    "    \"3. Significant outliers in Amount column (transactions up to 1.5M)\"\n",
    "]"
   ]
  }
 ],
 "metadata": {
  "language_info": {
   "name": "python"
  }
 },
 "nbformat": 4,
 "nbformat_minor": 5
}
